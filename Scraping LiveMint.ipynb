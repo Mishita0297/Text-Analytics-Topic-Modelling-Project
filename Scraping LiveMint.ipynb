{
 "cells": [
  {
   "cell_type": "markdown",
   "metadata": {},
   "source": [
    "# Scraping while Scrolling down to a specific element"
   ]
  },
  {
   "cell_type": "code",
   "execution_count": 1,
   "metadata": {},
   "outputs": [],
   "source": [
    "from selenium import webdriver\n",
    "import time\n",
    "import nltk\n",
    "from bs4 import BeautifulSoup\n",
    "import missingno as msno\n",
    "from newspaper import Article\n",
    "import pandas as pd"
   ]
  },
  {
   "cell_type": "code",
   "execution_count": 2,
   "metadata": {},
   "outputs": [],
   "source": [
    "from webdriver_manager.chrome import ChromeDriverManager"
   ]
  },
  {
   "cell_type": "code",
   "execution_count": 3,
   "metadata": {
    "scrolled": true
   },
   "outputs": [
    {
     "name": "stderr",
     "output_type": "stream",
     "text": [
      "[WDM] - Current google-chrome version is 85.0.4183\n",
      "[WDM] - Get LATEST driver version for 85.0.4183\n",
      "[WDM] - Get LATEST driver version for 85.0.4183\n"
     ]
    },
    {
     "name": "stdout",
     "output_type": "stream",
     "text": [
      " \n"
     ]
    },
    {
     "name": "stderr",
     "output_type": "stream",
     "text": [
      "[WDM] - Trying to download new driver from http://chromedriver.storage.googleapis.com/85.0.4183.87/chromedriver_win32.zip\n",
      "[WDM] - Driver has been saved in cache [C:\\Users\\hp\\.wdm\\drivers\\chromedriver\\win32\\85.0.4183.87]\n"
     ]
    }
   ],
   "source": [
    "chrome_path = r'C:\\Users\\hp\\Selenium\\ChromeDriver\\chromedriver_win32\\chromedriver.exe'\n",
    "\n",
    "driver = webdriver.Chrome(ChromeDriverManager().install())"
   ]
  },
  {
   "cell_type": "code",
   "execution_count": 4,
   "metadata": {},
   "outputs": [],
   "source": [
    "driver.get('https://www.livemint.com/Search/Link/Keyword/fmcg-covid-19')"
   ]
  },
  {
   "cell_type": "code",
   "execution_count": 8,
   "metadata": {},
   "outputs": [],
   "source": [
    "flag = driver.find_element_by_xpath(\"//*[@id='listheadline_11585222642782']/a\")\n",
    "driver.execute_script('arguments[0].scrollIntoView();', flag)"
   ]
  },
  {
   "cell_type": "code",
   "execution_count": 9,
   "metadata": {},
   "outputs": [],
   "source": [
    "# Selenium script to scroll to the bottom, wait 3 seconds for the next batch of\n",
    "# data to load, then continue scrolling.  It will continue to do this until the \n",
    "# page stops loading new data.\n",
    "lenOfPage = driver.execute_script(\"window.scrollTo(0, document.body.scrollHeight);var lenOfPage=document.body.scrollHeight;return lenOfPage;\")\n",
    "match=False\n",
    "while match==False:\n",
    "    lastCount = lenOfPage\n",
    "    time.sleep(3)\n",
    "    lenOfPage = driver.execute_script(\"window.scrollTo(0, document.body.scrollHeight);var lenOfPage=document.body.scrollHeight;return lenOfPage;\")\n",
    "    if lastCount==lenOfPage:\n",
    "        match=True\n",
    "\n",
    "# Now that the page is fully scrolled, grab the source code.\n",
    "source_data = driver.page_source\n",
    "\n",
    "# Throw your source into BeautifulSoup and start parsing!\n",
    "#bs_data = bs(source_data)"
   ]
  },
  {
   "cell_type": "code",
   "execution_count": 10,
   "metadata": {},
   "outputs": [
    {
     "data": {
      "text/plain": [
       "281768"
      ]
     },
     "execution_count": 10,
     "metadata": {},
     "output_type": "execute_result"
    }
   ],
   "source": [
    "len(source_data)"
   ]
  },
  {
   "cell_type": "code",
   "execution_count": 12,
   "metadata": {},
   "outputs": [],
   "source": [
    "soup = BeautifulSoup(source_data)"
   ]
  },
  {
   "cell_type": "code",
   "execution_count": 35,
   "metadata": {},
   "outputs": [],
   "source": [
    "#print(bs_data.prettify())"
   ]
  },
  {
   "cell_type": "code",
   "execution_count": 13,
   "metadata": {},
   "outputs": [
    {
     "data": {
      "text/plain": [
       "70"
      ]
     },
     "execution_count": 13,
     "metadata": {},
     "output_type": "execute_result"
    }
   ],
   "source": [
    "article_links = []\n",
    "\n",
    "for h in soup.find_all('h2', attrs={'class': 'headline'}):\n",
    "    for anch in h.find_all('a', href=True):\n",
    "        if anch.text:\n",
    "            article_links.append(anch['href'])\n",
    "    \n",
    "len(article_links)"
   ]
  },
  {
   "cell_type": "code",
   "execution_count": 7,
   "metadata": {},
   "outputs": [
    {
     "data": {
      "text/plain": [
       "str"
      ]
     },
     "execution_count": 7,
     "metadata": {},
     "output_type": "execute_result"
    }
   ],
   "source": [
    "type(article_links[0])"
   ]
  },
  {
   "cell_type": "raw",
   "metadata": {},
   "source": [
    "# Loop to extract Articles\n",
    "# Form a dataframe\n",
    "# Date, URL (Name of the newspaper/website), newspaper, Title, Article \n",
    "\n",
    "df = pd.DataFrame()\n",
    "\n",
    "nw_date = []\n",
    "nw_url = []\n",
    "nw_paper = []\n",
    "nw_title = []\n",
    "nw_article = []\n",
    "\n",
    "for link in article_links:\n",
    "    url = 'https://www.livemint.com/' + link\n",
    "    article = Article(url)\n",
    "    article.download()\n",
    "    article.parse()\n",
    "\n",
    "    nw_date.append(str(article.publish_date)[:10])\n",
    "    nw_url.append(str(article.url))\n",
    "    nw_paper.append('LiveMint')\n",
    "    nw_title.append(article.title)\n",
    "    \n",
    "    text = article.text\n",
    "    ult_text = ('').join(text.split('\\n'))\n",
    "    nw_article.append(ult_text)\n",
    "    \n",
    "df['Date'] = pd.Series(nw_date)\n",
    "df['URL'] = pd.Series(nw_url)\n",
    "df['Newspaper'] = pd.Series(nw_paper)\n",
    "df['Title'] = pd.Series(nw_title)\n",
    "df['Article'] = pd.Series(nw_article)\n",
    "\n",
    "df.head()"
   ]
  },
  {
   "cell_type": "raw",
   "metadata": {},
   "source": [
    "df.columns"
   ]
  },
  {
   "cell_type": "code",
   "execution_count": 8,
   "metadata": {},
   "outputs": [
    {
     "data": {
      "text/plain": [
       "'E:\\\\NewsFMCG'"
      ]
     },
     "execution_count": 8,
     "metadata": {},
     "output_type": "execute_result"
    }
   ],
   "source": [
    "import os\n",
    "os.chdir('E:/NewsFMCG')\n",
    "os.getcwd()"
   ]
  },
  {
   "cell_type": "code",
   "execution_count": 9,
   "metadata": {},
   "outputs": [],
   "source": [
    "# Writing the data to a csv\n",
    "\n",
    "frame = []\n",
    "upperframe = []\n",
    "\n",
    "filename=\"LiveMint70.csv\"\n",
    "f = open(filename,\"w\", encoding = 'utf-8')\n",
    "headers=\"Date, URL, Newspaper, Title, Article\\n\"\n",
    "f.write(headers)\n",
    "\n",
    "for link in article_links:\n",
    "    url = 'https://www.livemint.com/' + link\n",
    "    article = Article(url)\n",
    "    article.download()\n",
    "    article.parse()\n",
    "\n",
    "    nw_date = str(article.publish_date)[:10]\n",
    "    nw_url = str(article.url)\n",
    "    nw_paper = 'LiveMint'\n",
    "    nw_title = article.title\n",
    "    \n",
    "    text = article.text\n",
    "    ult_text = ('').join(text.split('\\n'))\n",
    "    nw_article = ult_text\n",
    "\n",
    "    frame.append((nw_date, nw_url, nw_paper, nw_title, nw_article))\n",
    "    f.write(nw_date.replace(\",\",\"^\") + \",\" + nw_url + \",\" + nw_paper + \",\"\n",
    "            + nw_title.replace(\",\",\"^\") + \",\" \n",
    "            + nw_article.replace(\",\",\"^\") + \"\\n\")\n",
    "upperframe.extend(frame)\n",
    "\n",
    "f.close()"
   ]
  },
  {
   "cell_type": "code",
   "execution_count": 10,
   "metadata": {},
   "outputs": [
    {
     "data": {
      "text/html": [
       "<div>\n",
       "<style scoped>\n",
       "    .dataframe tbody tr th:only-of-type {\n",
       "        vertical-align: middle;\n",
       "    }\n",
       "\n",
       "    .dataframe tbody tr th {\n",
       "        vertical-align: top;\n",
       "    }\n",
       "\n",
       "    .dataframe thead th {\n",
       "        text-align: right;\n",
       "    }\n",
       "</style>\n",
       "<table border=\"1\" class=\"dataframe\">\n",
       "  <thead>\n",
       "    <tr style=\"text-align: right;\">\n",
       "      <th></th>\n",
       "      <th>Date</th>\n",
       "      <th>URL</th>\n",
       "      <th>Newspaper</th>\n",
       "      <th>Title</th>\n",
       "      <th>Article</th>\n",
       "    </tr>\n",
       "  </thead>\n",
       "  <tbody>\n",
       "    <tr>\n",
       "      <th>0</th>\n",
       "      <td>2020-08-24</td>\n",
       "      <td>https://www.livemint.com//market/mark-to-marke...</td>\n",
       "      <td>LiveMint</td>\n",
       "      <td>Q1 results reveal how covid-proof FMCG compani...</td>\n",
       "      <td>The coronavirus pandemic struck at a time when...</td>\n",
       "    </tr>\n",
       "    <tr>\n",
       "      <th>1</th>\n",
       "      <td>2020-08-11</td>\n",
       "      <td>https://www.livemint.com//news/india/covid-sur...</td>\n",
       "      <td>LiveMint</td>\n",
       "      <td>Covid survey: 90% of consumers making lasting ...</td>\n",
       "      <td>NEW DELHI: Covid-19 has led to changes in cons...</td>\n",
       "    </tr>\n",
       "    <tr>\n",
       "      <th>2</th>\n",
       "      <td>2020-08-07</td>\n",
       "      <td>https://www.livemint.com//companies/news/packa...</td>\n",
       "      <td>LiveMint</td>\n",
       "      <td>Packaged products' demand can touch pre-covid ...</td>\n",
       "      <td>NEW DELHI: Jyothy Labs Limited, that sells Mar...</td>\n",
       "    </tr>\n",
       "    <tr>\n",
       "      <th>3</th>\n",
       "      <td>2020-08-06</td>\n",
       "      <td>https://www.livemint.com//companies/news/fmcg-...</td>\n",
       "      <td>LiveMint</td>\n",
       "      <td>FMCG cos put covid learnings to practice</td>\n",
       "      <td>NEW DELHI : India’s top packaged consumer good...</td>\n",
       "    </tr>\n",
       "    <tr>\n",
       "      <th>4</th>\n",
       "      <td>2020-08-05</td>\n",
       "      <td>https://www.livemint.com//companies/news/covid...</td>\n",
       "      <td>LiveMint</td>\n",
       "      <td>Covid prompts FMCG firms to look at efficient ...</td>\n",
       "      <td>NEW DELHI: India's top packaged consumer goods...</td>\n",
       "    </tr>\n",
       "  </tbody>\n",
       "</table>\n",
       "</div>"
      ],
      "text/plain": [
       "         Date                                                URL Newspaper  \\\n",
       "0  2020-08-24  https://www.livemint.com//market/mark-to-marke...  LiveMint   \n",
       "1  2020-08-11  https://www.livemint.com//news/india/covid-sur...  LiveMint   \n",
       "2  2020-08-07  https://www.livemint.com//companies/news/packa...  LiveMint   \n",
       "3  2020-08-06  https://www.livemint.com//companies/news/fmcg-...  LiveMint   \n",
       "4  2020-08-05  https://www.livemint.com//companies/news/covid...  LiveMint   \n",
       "\n",
       "                                               Title  \\\n",
       "0  Q1 results reveal how covid-proof FMCG compani...   \n",
       "1  Covid survey: 90% of consumers making lasting ...   \n",
       "2  Packaged products' demand can touch pre-covid ...   \n",
       "3           FMCG cos put covid learnings to practice   \n",
       "4  Covid prompts FMCG firms to look at efficient ...   \n",
       "\n",
       "                                             Article  \n",
       "0  The coronavirus pandemic struck at a time when...  \n",
       "1  NEW DELHI: Covid-19 has led to changes in cons...  \n",
       "2  NEW DELHI: Jyothy Labs Limited, that sells Mar...  \n",
       "3  NEW DELHI : India’s top packaged consumer good...  \n",
       "4  NEW DELHI: India's top packaged consumer goods...  "
      ]
     },
     "execution_count": 10,
     "metadata": {},
     "output_type": "execute_result"
    }
   ],
   "source": [
    "data=pd.DataFrame(upperframe, columns=['Date', 'URL', 'Newspaper', 'Title', 'Article'])\n",
    "data.head()"
   ]
  },
  {
   "cell_type": "code",
   "execution_count": 11,
   "metadata": {},
   "outputs": [
    {
     "data": {
      "text/plain": [
       "<matplotlib.axes._subplots.AxesSubplot at 0x1c28918b970>"
      ]
     },
     "execution_count": 11,
     "metadata": {},
     "output_type": "execute_result"
    },
    {
     "data": {
      "image/png": "[encoded data removed]",
      "text/plain": [
       "<Figure size 1800x720 with 2 Axes>"
      ]
     },
     "metadata": {
      "needs_background": "light"
     },
     "output_type": "display_data"
    }
   ],
   "source": [
    "msno.matrix(data)"
   ]
  },
  {
   "cell_type": "code",
   "execution_count": 14,
   "metadata": {},
   "outputs": [
    {
     "name": "stdout",
     "output_type": "stream",
     "text": [
      "E:\\NewsFMCG\\LiveMint70.csv\n"
     ]
    }
   ],
   "source": [
    "print(os.path.abspath(filename))"
   ]
  },
  {
   "cell_type": "code",
   "execution_count": null,
   "metadata": {},
   "outputs": [],
   "source": []
  },
  {
   "cell_type": "raw",
   "metadata": {},
   "source": [
    "sentence = \"Hi! My name is Mishita! I'd liked'ld to ain't ask's, 'How are you?!\"\n",
    "tokenizer = nltk.RegexpTokenizer(r\"\\w+\")\n",
    "new_words = tokenizer.tokenize(sentence)\n",
    "new_token_list = [word for word in new_words if word not in ['s', 'd', 'ld']]\n",
    "ult_text = ' '.join(new_token_list)"
   ]
  },
  {
   "cell_type": "raw",
   "metadata": {},
   "source": [
    "new_words"
   ]
  },
  {
   "cell_type": "raw",
   "metadata": {},
   "source": [
    "ult_text"
   ]
  },
  {
   "cell_type": "markdown",
   "metadata": {},
   "source": [
    "# BeautifulSoup"
   ]
  },
  {
   "cell_type": "raw",
   "metadata": {},
   "source": [
    "import nltk, re, pprint"
   ]
  },
  {
   "cell_type": "raw",
   "metadata": {},
   "source": [
    "import requests\n",
    "from bs4 import BeautifulSoup"
   ]
  },
  {
   "cell_type": "raw",
   "metadata": {},
   "source": [
    "import urllib.request,sys,time"
   ]
  },
  {
   "cell_type": "raw",
   "metadata": {},
   "source": [
    "import pandas as pd"
   ]
  },
  {
   "cell_type": "raw",
   "metadata": {},
   "source": [
    "url = 'https://www.livemint.com/Search/Link/Keyword/fmcg-covid-19'\n",
    "page = requests.get(url)\n",
    "page.status_code"
   ]
  },
  {
   "cell_type": "raw",
   "metadata": {},
   "source": [
    "try:\n",
    "     # this might throw an exception if something goes wrong.\n",
    "     page=requests.get(url) \n",
    "     # this describes what to do if an exception is thrown \n",
    "except Exception as e:    \n",
    "    \n",
    "    # get the exception information\n",
    "    error_type, error_obj, error_info = sys.exc_info()      \n",
    "    \n",
    "    #print the link that cause the problem\n",
    "    print ('ERROR FOR LINK:',url)\n",
    "    \n",
    "    #print error info and line that threw the exception                          \n",
    "    print (error_type, 'Line:', error_info.tb_lineno)\n",
    "    \n",
    "    continue"
   ]
  },
  {
   "cell_type": "raw",
   "metadata": {},
   "source": [
    "page.status_code"
   ]
  },
  {
   "cell_type": "raw",
   "metadata": {},
   "source": [
    "type(page.text)"
   ]
  },
  {
   "cell_type": "raw",
   "metadata": {},
   "source": [
    "type(page.content)"
   ]
  },
  {
   "cell_type": "raw",
   "metadata": {},
   "source": [
    "if \"livemint\" in page.text.lower():\n",
    "         print(\"Yes, Scrape it\")"
   ]
  },
  {
   "cell_type": "raw",
   "metadata": {},
   "source": [
    "print(page.headers.get(\"content-type\", \"unknown\"))"
   ]
  },
  {
   "cell_type": "raw",
   "metadata": {},
   "source": [
    "time.sleep(2)"
   ]
  },
  {
   "cell_type": "raw",
   "metadata": {},
   "source": [
    "soup = BeautifulSoup(page.text, \"html.parser\")"
   ]
  },
  {
   "cell_type": "raw",
   "metadata": {},
   "source": [
    "links=soup.find_all('a', attrs={'class':'', 'href':})\n",
    "    "
   ]
  },
  {
   "cell_type": "raw",
   "metadata": {},
   "source": [
    "print(len(links))"
   ]
  },
  {
   "cell_type": "raw",
   "metadata": {},
   "source": [
    "links"
   ]
  },
  {
   "cell_type": "raw",
   "metadata": {},
   "source": []
  },
  {
   "cell_type": "raw",
   "metadata": {},
   "source": [
    "url = 'https://www.livemint.com/industry/retail/covid-19-crisis-may-lead-to-emergence-of-new-fmcg-products-gcpl-md-11585738917920.html'\n",
    "html = requests.get(url)\n",
    "html.status_code"
   ]
  },
  {
   "cell_type": "raw",
   "metadata": {},
   "source": [
    "type(html)"
   ]
  },
  {
   "cell_type": "raw",
   "metadata": {},
   "source": [
    "# Using beautiful soup to parse the HTML\n",
    "soup = BeautifulSoup(html.content, 'html.parser')\n",
    "\n",
    "# Finding the text \n",
    "#text = soup.find_all(text=True)\n",
    "# set([t.parent.name for t in text])"
   ]
  },
  {
   "cell_type": "raw",
   "metadata": {},
   "source": [
    "[Navigating a Source of a Web Page](https://www.dataquest.io/blog/web-scraping-tutorial-python/)\n",
    "\n",
    "### Unwanted Text Appears too\n",
    "\n",
    "{'[document]', 'a', 'article', 'aside', 'body', 'div', 'em', 'figcaption', 'form', 'h1', 'h3', 'h4', 'head', 'header', 'html', 'li', 'link', 'meta', 'nav', 'p', 'script', 'section', 'span', 'strong', 'style', 'title'}\n",
    " \n",
    "{'label', 'h4', 'ol', '[document]', 'a', 'h1', 'noscript', 'span', 'header', 'ul', 'html', 'section', 'article', 'em', 'meta', 'title', 'body', 'aside', 'footer', 'div', 'form', 'nav', 'p', 'head', 'link', 'strong', 'h6', 'br', 'li', 'h3', 'h5', 'input', 'blockquote', 'main', 'script', 'figure'}"
   ]
  },
  {
   "cell_type": "raw",
   "metadata": {
    "collapsed": true
   },
   "source": [
    "print(soup.prettify())"
   ]
  },
  {
   "cell_type": "raw",
   "metadata": {},
   "source": [
    "type(soup.find_all('p'))"
   ]
  },
  {
   "cell_type": "raw",
   "metadata": {},
   "source": [
    "len(soup.find_all('p'))"
   ]
  },
  {
   "cell_type": "raw",
   "metadata": {},
   "source": [
    "soup.find_all('p')[13]"
   ]
  },
  {
   "cell_type": "raw",
   "metadata": {},
   "source": [
    "para_list = []\n",
    "for p in soup.find_all('p'):\n",
    "    para_list.append(p.get_text().strip(' \\n'))\n",
    "    ult_text = (' ').join(para_list)\n",
    "    \n",
    "ult_text"
   ]
  },
  {
   "cell_type": "raw",
   "metadata": {},
   "source": [
    "(' ').join(['a','b'])"
   ]
  },
  {
   "cell_type": "raw",
   "metadata": {},
   "source": [
    "from dateparser.search import search_dates"
   ]
  },
  {
   "cell_type": "raw",
   "metadata": {},
   "source": [
    "search_dates(text)"
   ]
  },
  {
   "cell_type": "markdown",
   "metadata": {},
   "source": [
    "## Testing Newspaper3k for the first Page link "
   ]
  },
  {
   "cell_type": "raw",
   "metadata": {},
   "source": [
    "url = 'https://www.livemint.com/' + article_links[0]\n",
    "article = Article(url) \n",
    "article.download()\n",
    "article.parse()\n",
    "# page.status_code"
   ]
  },
  {
   "cell_type": "raw",
   "metadata": {},
   "source": [
    "# To check\n",
    "article.html"
   ]
  },
  {
   "cell_type": "raw",
   "metadata": {},
   "source": [
    "article.publish_date"
   ]
  },
  {
   "cell_type": "raw",
   "metadata": {},
   "source": [
    "article.url"
   ]
  },
  {
   "cell_type": "raw",
   "metadata": {},
   "source": [
    "article.title"
   ]
  },
  {
   "cell_type": "raw",
   "metadata": {},
   "source": [
    "article.text"
   ]
  },
  {
   "cell_type": "raw",
   "metadata": {},
   "source": [
    "url = 'https://www.livemint.com/' + article_links[69]\n",
    "article = Article(url) \n",
    "article.download()\n",
    "article.parse()\n",
    "# page.status_code\n",
    "\n",
    "# To check\n",
    "#article.html\n",
    "\n",
    "print(article.publish_date)\n",
    "\n",
    "print(article.url)\n",
    "\n",
    "print(article.title)"
   ]
  },
  {
   "cell_type": "raw",
   "metadata": {},
   "source": [
    "str(article.publish_date)[:10]"
   ]
  },
  {
   "cell_type": "raw",
   "metadata": {},
   "source": [
    "text = article.text"
   ]
  },
  {
   "cell_type": "raw",
   "metadata": {},
   "source": [
    "ult_text = ('').join(text.split('\\n'))"
   ]
  }
 ],
 "metadata": {
  "kernelspec": {
   "display_name": "Python 3",
   "language": "python",
   "name": "python3"
  },
  "language_info": {
   "codemirror_mode": {
    "name": "ipython",
    "version": 3
   },
   "file_extension": ".py",
   "mimetype": "text/x-python",
   "name": "python",
   "nbconvert_exporter": "python",
   "pygments_lexer": "ipython3",
   "version": "3.8.3"
  }
 },
 "nbformat": 4,
 "nbformat_minor": 4
}
